{
 "cells": [
  {
   "cell_type": "code",
   "id": "initial_id",
   "metadata": {
    "collapsed": true,
    "ExecuteTime": {
     "end_time": "2025-04-09T12:29:31.995965Z",
     "start_time": "2025-04-09T12:29:31.826736Z"
    }
   },
   "source": [
    "# load h5 file\n",
    "import h5py\n",
    "import numpy as np\n",
    "import matplotlib.pyplot as plt\n",
    "\n",
    "path = \"data/simulations/children_0_tubes_2_id_19969.h5\"\n",
    "\n",
    "with h5py.File(path, \"r\") as f:\n",
    "    # Get the keys of the file\n",
    "    keys = list(f.keys())\n",
    "    print(keys)\n",
    "    \n",
    "    for key in keys:\n",
    "        # Get the data\n",
    "        data = f[key]\n",
    "        \n",
    "        # Get the shape of the data\n",
    "        shape = data.shape\n",
    "        print(key, shape)\n",
    "        \n",
    "        # Get the data as a numpy array\n",
    "        data = np.array(data)"
   ],
   "outputs": [
    {
     "name": "stdout",
     "output_type": "stream",
     "text": [
      "['efield', 'hfield', 'input', 'subject']\n",
      "efield (3, 121, 111, 126, 8)\n",
      "hfield (3, 121, 111, 126, 8)\n",
      "input (3, 121, 111, 126)\n",
      "subject (121, 111, 126, 3)\n"
     ]
    }
   ],
   "execution_count": 3
  },
  {
   "metadata": {},
   "cell_type": "code",
   "outputs": [],
   "execution_count": null,
   "source": "",
   "id": "aadbe427f6227ae5"
  }
 ],
 "metadata": {
  "kernelspec": {
   "display_name": "Python 3",
   "language": "python",
   "name": "python3"
  },
  "language_info": {
   "codemirror_mode": {
    "name": "ipython",
    "version": 2
   },
   "file_extension": ".py",
   "mimetype": "text/x-python",
   "name": "python",
   "nbconvert_exporter": "python",
   "pygments_lexer": "ipython2",
   "version": "2.7.6"
  }
 },
 "nbformat": 4,
 "nbformat_minor": 5
}
